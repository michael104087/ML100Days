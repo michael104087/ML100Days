{
 "cells": [
  {
   "cell_type": "code",
   "execution_count": null,
   "metadata": {},
   "outputs": [],
   "source": [
    "1. ALASKA2 Image Steganalysis(From kaggle)\n",
    "2. 這組資料是由許多張圖片所構成，希望透過機器學習，辨識一些圖片的共通點，這些圖片可能為不同的相機、角度、影像處理，此分類屬於非監督是學習。\n",
    "3. 我認為這組資料重要，是因為透過此方法可以快速找到這些照片的共通點，利用共通點判斷圖片是否拍攝自同一個地方，可以讓取證更加方便。\n",
    "4. 我認為可以切割每張圖片成很多不同格子，把格子的共通性找出來並分類，將這些格子label再挑出圖片。(最簡單的分類)\n",
    "\n"
   ]
  }
 ],
 "metadata": {
  "kernelspec": {
   "display_name": "Python 3",
   "language": "python",
   "name": "python3"
  },
  "language_info": {
   "codemirror_mode": {
    "name": "ipython",
    "version": 3
   },
   "file_extension": ".py",
   "mimetype": "text/x-python",
   "name": "python",
   "nbconvert_exporter": "python",
   "pygments_lexer": "ipython3",
   "version": "3.7.6"
  }
 },
 "nbformat": 4,
 "nbformat_minor": 4
}
